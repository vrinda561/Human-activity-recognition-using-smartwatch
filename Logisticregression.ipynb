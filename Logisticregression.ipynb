{
  "nbformat": 4,
  "nbformat_minor": 0,
  "metadata": {
    "colab": {
      "name": "Logisticregression.ipynb",
      "provenance": [],
      "collapsed_sections": [],
      "include_colab_link": true
    },
    "kernelspec": {
      "name": "python3",
      "display_name": "Python 3"
    },
    "language_info": {
      "name": "python"
    }
  },
  "cells": [
    {
      "cell_type": "markdown",
      "metadata": {
        "id": "view-in-github",
        "colab_type": "text"
      },
      "source": [
        "<a href=\"https://colab.research.google.com/github/vrinda561/Human-activity-recognition-using-smartwatch/blob/main/Logisticregression.ipynb\" target=\"_parent\"><img src=\"https://colab.research.google.com/assets/colab-badge.svg\" alt=\"Open In Colab\"/></a>"
      ]
    },
    {
      "cell_type": "markdown",
      "source": [
        "# LOGISTIC REGRESSION "
      ],
      "metadata": {
        "id": "gE-sESZvuX27"
      }
    },
    {
      "cell_type": "markdown",
      "source": [
        "IMPORTING DATASET"
      ],
      "metadata": {
        "id": "kXUClXobuRAw"
      }
    },
    {
      "cell_type": "code",
      "execution_count": null,
      "metadata": {
        "id": "kbpey54MizeC"
      },
      "outputs": [],
      "source": [
        "import pandas as pd\n",
        "import numpy as np\n",
        "import matplotlib.pyplot as plt"
      ]
    },
    {
      "cell_type": "markdown",
      "source": [
        "IMPORTING DATASET"
      ],
      "metadata": {
        "id": "gPEN44lmrm28"
      }
    },
    {
      "cell_type": "code",
      "source": [
        "dataset = pd.read_csv(\"Human_Activity_Recognition_Using_Smartphones_Data.csv\")\n",
        "x = dataset.iloc[1:,:-1].values\n",
        "y = dataset.iloc[1:,-1].values"
      ],
      "metadata": {
        "id": "z5nXEwJwjKfL"
      },
      "execution_count": null,
      "outputs": []
    },
    {
      "cell_type": "markdown",
      "source": [
        "ENCODING CATEGORICAL DATA"
      ],
      "metadata": {
        "id": "xdPFqJE3rqnP"
      }
    },
    {
      "cell_type": "code",
      "source": [
        "from sklearn.preprocessing import LabelEncoder\n",
        "le = LabelEncoder()\n",
        "y = le.fit_transform(y)\n",
        "print(y)"
      ],
      "metadata": {
        "colab": {
          "base_uri": "https://localhost:8080/"
        },
        "id": "2GN9XTWrkAhJ",
        "outputId": "42d8064d-6734-4838-ad6e-1383dec7844c"
      },
      "execution_count": null,
      "outputs": [
        {
          "output_type": "stream",
          "name": "stdout",
          "text": [
            "[2 2 2 ... 5 5 5]\n"
          ]
        }
      ]
    },
    {
      "cell_type": "markdown",
      "source": [
        "SPLITTING DATASET IN TRAINING AND TESTING SET"
      ],
      "metadata": {
        "id": "bp651T3rry9a"
      }
    },
    {
      "cell_type": "code",
      "source": [
        "from sklearn.model_selection import train_test_split\n",
        "x_train,x_test, y_train, y_test = train_test_split(x,y,test_size= 0.2, random_state =1)"
      ],
      "metadata": {
        "id": "0BnY2Obvk6yX"
      },
      "execution_count": null,
      "outputs": []
    },
    {
      "cell_type": "markdown",
      "source": [
        "TRAINING LOGISTIC REGRESSION MODEL ON TRAINING SET"
      ],
      "metadata": {
        "id": "0qGb1DeDr59Z"
      }
    },
    {
      "cell_type": "code",
      "source": [
        "from sklearn.linear_model import LogisticRegression\n",
        "classifier = LogisticRegression()\n",
        "classifier.fit(x_train,y_train)"
      ],
      "metadata": {
        "colab": {
          "base_uri": "https://localhost:8080/"
        },
        "id": "Ej7z9XgNlmLd",
        "outputId": "a903192c-3070-440c-aba5-e2111ce0e201"
      },
      "execution_count": null,
      "outputs": [
        {
          "output_type": "stream",
          "name": "stderr",
          "text": [
            "/usr/local/lib/python3.7/dist-packages/sklearn/linear_model/_logistic.py:818: ConvergenceWarning: lbfgs failed to converge (status=1):\n",
            "STOP: TOTAL NO. of ITERATIONS REACHED LIMIT.\n",
            "\n",
            "Increase the number of iterations (max_iter) or scale the data as shown in:\n",
            "    https://scikit-learn.org/stable/modules/preprocessing.html\n",
            "Please also refer to the documentation for alternative solver options:\n",
            "    https://scikit-learn.org/stable/modules/linear_model.html#logistic-regression\n",
            "  extra_warning_msg=_LOGISTIC_SOLVER_CONVERGENCE_MSG,\n"
          ]
        },
        {
          "output_type": "execute_result",
          "data": {
            "text/plain": [
              "LogisticRegression()"
            ]
          },
          "metadata": {},
          "execution_count": 21
        }
      ]
    },
    {
      "cell_type": "markdown",
      "source": [
        "PREDICTING THE TEST SET RESULT AND COMPARING "
      ],
      "metadata": {
        "id": "8MAAfikIsJJo"
      }
    },
    {
      "cell_type": "code",
      "source": [
        "y_pred = classifier.predict(x_test)\n",
        "df = pd.DataFrame({'Real_Values':y_test.reshape(-1),'Predicte_Values':y_pred})\n",
        "print(df)"
      ],
      "metadata": {
        "colab": {
          "base_uri": "https://localhost:8080/"
        },
        "id": "LuFL-8hDmcUP",
        "outputId": "8774bcca-b1e7-4083-e9b6-7083af923efb"
      },
      "execution_count": null,
      "outputs": [
        {
          "output_type": "stream",
          "name": "stdout",
          "text": [
            "      Real_Values  Predicte_Values\n",
            "0               5                5\n",
            "1               2                2\n",
            "2               2                2\n",
            "3               5                5\n",
            "4               0                0\n",
            "...           ...              ...\n",
            "2055            5                5\n",
            "2056            0                0\n",
            "2057            3                3\n",
            "2058            2                2\n",
            "2059            3                3\n",
            "\n",
            "[2060 rows x 2 columns]\n"
          ]
        }
      ]
    },
    {
      "cell_type": "markdown",
      "source": [
        "CONFUSION MATRICE AND ACCURACY"
      ],
      "metadata": {
        "id": "zVY_KvXnsTLU"
      }
    },
    {
      "cell_type": "code",
      "source": [
        "from sklearn.metrics import confusion_matrix,accuracy_score\n",
        "cm = confusion_matrix(y_test,y_pred)\n",
        "print(cm)\n",
        "accuracy_score(y_test,y_pred)"
      ],
      "metadata": {
        "colab": {
          "base_uri": "https://localhost:8080/"
        },
        "id": "vjWopL0ZqpPV",
        "outputId": "9bf01d3e-f6dd-4103-878b-d91f2ef67278"
      },
      "execution_count": null,
      "outputs": [
        {
          "output_type": "stream",
          "name": "stdout",
          "text": [
            "[[361   0   0   0   0   0]\n",
            " [  0 339  13   0   0   0]\n",
            " [  0  18 366   0   0   0]\n",
            " [  0   0   0 349   1   0]\n",
            " [  0   0   0   1 288   1]\n",
            " [  0   0   0   0   2 321]]\n"
          ]
        },
        {
          "output_type": "execute_result",
          "data": {
            "text/plain": [
              "0.9825242718446602"
            ]
          },
          "metadata": {},
          "execution_count": 27
        }
      ]
    }
  ]
}